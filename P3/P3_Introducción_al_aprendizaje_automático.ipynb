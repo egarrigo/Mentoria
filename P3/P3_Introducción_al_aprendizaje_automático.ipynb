{
  "nbformat": 4,
  "nbformat_minor": 0,
  "metadata": {
    "colab": {
      "name": "P3 Introducción al aprendizaje automático.ipynb",
      "provenance": [],
      "collapsed_sections": []
    },
    "kernelspec": {
      "name": "python3",
      "display_name": "Python 3"
    }
  },
  "cells": [
    {
      "cell_type": "markdown",
      "metadata": {
        "id": "M-nQGofxOA8S",
        "colab_type": "text"
      },
      "source": [
        "#Bienvenidos a la mentoría: \n",
        "##\"Ciencia de datos aplicada al estudio de la Obesidad y otras enfermedades crónicas en Córdoba.\"\n"
      ]
    },
    {
      "cell_type": "markdown",
      "metadata": {
        "id": "LN5r00zhhL5d",
        "colab_type": "text"
      },
      "source": [
        "##### Como primer objetivo proponemos acercarnos a la temática propuesta presentando una breve introducción de la misma y sus posibles determinantes.\n"
      ]
    },
    {
      "cell_type": "markdown",
      "metadata": {
        "id": "N5gkuPZ4OHbp",
        "colab_type": "text"
      },
      "source": [
        "##Descripción del problema\n",
        "La obesidad es una enfermedad crónica multicausal de alta prevalencia en el mundo y Argentina. La misma se encuentra en constante aumento y en Córdoba son más del 50% las personas que presentan exceso de peso, y un 25% del total obesidad. Si bien se piensa que los principales factores que influyen en su desarrollo, son un nivel de actividad física inadecuado, el sedentarismo y una alimentación poco saludable, pueden existir otros determinantes de esta condición que deban ser considerados. Sin embargo, muchas veces es difícil contar con todos estos datos y analizarlos de manera conjunta  o considerando su efecto sinérgico.\n",
        "Por otra parte, al conocer los aspectos que más influyen en la ocurrencia de esta enfermedad se podría abordar de manera integral y ofrecer a la población información, realizar recomendaciones y utilizar estos resultados para implementar políticas públicas para enfrentar la pandemia de la obesidad.\n",
        "Así, en esta mentoría poneo a dispoición un dataset que tiene una numerosa variedad de features las cuales permitirán poder seleccionar aquellos que sean los mejores predictores para la enfermedad. También identificar patrones de alimentación y subgrupos de sujetos que compartan ciertas características, y de esta forma descubrir nuevos insights para desarrollar.   \n",
        "Además, resulta interesante desarrollar metodologías para analizar y describir este problema, las que pueden ser replicadas en otros de las Ciencias de la salud y en el que se utilicen principalmente las herramientas que la Ciencia de Datos provee.\n",
        "Esperamos que en esta mentoría puedas desarrollar y aplicar todas las herramientas y skills aprendidas durante el cursado de la diplomatura. Te proponemos objetivos específicos para la resolución de cada práctico poniendo en juego tus conocimientos y creatividad, y quién te dice encontras tu lado Abby Sciuto/John Snow. \n"
      ]
    },
    {
      "cell_type": "markdown",
      "metadata": {
        "id": "KzsI1LyHONx4",
        "colab_type": "text"
      },
      "source": [
        "##Motivación\n",
        "❖\t¿Cuáles son las principales características de la población de Córdoba en cuanto a sus determinantes bio-socio-económicos?\n",
        "\n",
        "❖\t¿Es la obesidad una enfermedad que depende meramente de la alimentación de los sujetos?\n",
        "\n",
        "❖\t¿Cuáles son los factores alimentarios que promueven el desarrollo de la enfermedad?¿Y cuáles son aquellos que protegen?\n",
        "\n",
        "❖\t¿Se encuentra la obesidad asociada a la enfermedad cardiovascular?¿y al cáncer?\n",
        "\n",
        "❖\t¿Qué variables ayudarían a predecir el estado nutricional de un sujeto de la población de Córdoba?\n",
        "\n",
        "❖\t¿Cuáles son las características más visibles de los grupos según su estado nutricional?¿Existen características comunes que nos permitan predecir el estado nutricional que tendrá una persona?\n",
        "\n",
        "❖\t¿Existe algún patrón alimentario característico por grupos según la presencia o no de obesidad?\n",
        "\n",
        "\n"
      ]
    },
    {
      "cell_type": "markdown",
      "metadata": {
        "id": "tFkXu9PjWgtf",
        "colab_type": "text"
      },
      "source": [
        "# **Práctico N°3**           **Introducción al aprendizaje automático**"
      ]
    },
    {
      "cell_type": "markdown",
      "metadata": {
        "id": "l6dsCC0tg7aT",
        "colab_type": "text"
      },
      "source": [
        "## Objetivo y alcance\n",
        "\n",
        "\n"
      ]
    },
    {
      "cell_type": "markdown",
      "metadata": {
        "id": "aM9VAmMT4WiY",
        "colab_type": "text"
      },
      "source": [
        "Para esta materia el objetivo es poder hacer un primer acercamiento a un proceso de aprendizaje automático,Nos enfocaremos en el en el proceso de: selección de un modelo, ajuste de hiperparámetros y evaluación,regulador, métricas, similar a lo que hicieron en el segundo laboratorio de esta materia.\n",
        "En este laboratorio no se espera que se encuentre el mejor modelo con sus mejores parámetros, sino que se logre la buena práctica de realizar los pasos necesarios en un proceso de aprendizaje automático, desde la división del dataset hasta la evaluación del modelo. Para realizar el práctico vamos a utilizar el dataset generado en la materia anterior. \n",
        "\n",
        "\n",
        "### **La necesidad es la siguiente:**\n",
        "\n",
        "1.   Poder predecir de forma automática la presencia de obesidad (todos los grados) en toda la población.\n",
        "2.   Poder predecir de forma automática la presencia de obesidad en mujeres (grupo 1) y todos los hombres (grupo 2).\n",
        "3. Poder determinar cuales son las variables que son consideradas factores de riesgo para presentar obesidad, tanto para toda la población como discriminando por sexos.\n",
        "\n",
        "### **Para ello se debe:**\n",
        "\n",
        "*   Crear una variable que responda a la demanda (obesidad = IMC > 29.9)\n",
        "*  Cargar los datos, separando del dataset la etiqueta a predecir.\n",
        "* Dividir el dataset en el conjunto de entrenamiento y conjunto de test\n",
        "*   Analizar y justificar que features se utilizarán para lograr la mejor predicción.\n",
        "*   Elegir dos modelos de clasificación (uno por cada requerimiento). Los que Uds. se sientan más cómodos, pero también justificando conceptualmente la elección de la función de regularización.\n",
        "*   Entrenar y evaluar los modelos, fijando la semilla aleatoria para hacer repetible el experimento.\n",
        "*   En cuanto a los hiper-parámetros:\n",
        "\n",
        "        1.   Probar primero con los default y elegir alguna/s métrica/s para reportar los resultados. \n",
        "        2.   Luego usar grid-search y 5-fold cross-validation para explorar muchas combinaciones posibles de valores, reportando  accuracy promedio y varianza para todas las configuraciones.\n",
        "\n",
        "*   Para la mejor configuración encontrada, evaluar sobre el conjunto de entrenamiento y sobre el conjunto de evaluación, reportando:\n",
        "        *   Accuracy\n",
        "        *   Precision\n",
        "        *   Recall\n",
        "        *   F1\n",
        "        *   Matriz de confusión\n",
        "\n",
        "### Se evaluarán los siguientes aspectos:\n",
        "  ***1-*** Que se apliquen los conceptos vistos con los profes en el teórico y en el práctico.\n",
        "\n",
        "  ***2-*** Que el entregable no sea solo la notebook. El informe debe tener un mensaje claro y debe presentarse en un formato legible para cualquier tipo de stakeholder.\n",
        "\n",
        "  ***3-*** Capacidad de análisis.\n",
        "\n",
        "  ***4-*** Criterio para elegir que solución aplicar en cada caso y con qué método implementarla.\n",
        "\n",
        "\n",
        "  \n",
        "## Deadline pautado para la entrega: Lunes 16/08/2020"
      ]
    },
    {
      "cell_type": "markdown",
      "metadata": {
        "id": "N2uW9UYDWspO",
        "colab_type": "text"
      },
      "source": [
        "\n",
        "\n",
        "\n",
        "## Estructura del informe\n",
        "El informe debe estar en un formato que no sea Jupyter Notebook, por ejemplo .html, .pdf, .md. El objetivo es poder redactar y justificar las conclusiones obtenidas a partir de las preguntas disparadoras, utilizando material gráfico y/o interactivo como soporte para complementar las ideas. \n",
        "Además, se debe presentar o enviar la notebook en donde se trabajó (jupyter notebook, colab notebook, etc).  \n",
        "\n",
        "###Se evaluarán los siguientes aspectos:\n",
        "Que se apliquen los conceptos vistos en el dictado de la materia.\n",
        "\n",
        "El informe debe tener un mensaje claro y debe presentarse en un formato legible para cualquier tipo de stakeholder.\n",
        "\n",
        "Que los cálculos estadísticos sean utilizados solo como herramientas para responder a las consignas.\n",
        "\n",
        "Indicar el criterio aplicado al momento de elegir las variables a analizar.\n"
      ]
    },
    {
      "cell_type": "markdown",
      "metadata": {
        "id": "DohnbkZQmWkq",
        "colab_type": "text"
      },
      "source": [
        "## 0. Cargamos el CSV creado en el P2"
      ]
    },
    {
      "cell_type": "code",
      "metadata": {
        "id": "HzJ4l-qbpY1x",
        "colab_type": "code",
        "colab": {}
      },
      "source": [
        "#Poner aqui la libreria necesaria\n",
        "import pandas as pd\n",
        "pd.options.display.float_format = '{:.2f}'.format \n",
        "from sklearn import preprocessing\n",
        "from sklearn.model_selection import train_test_split\n",
        "from sklearn.metrics import accuracy_score, precision_score, recall_score, f1_score, confusion_matrix\n",
        "from sklearn.preprocessing import StandardScaler\n",
        "from sklearn.naive_bayes import GaussianNB \n",
        "from sklearn.tree import DecisionTreeClassifier\n",
        "from sklearn.model_selection import cross_val_score\n",
        "import seaborn as sns\n",
        "from sklearn.metrics import plot_confusion_matrix\n",
        "\n"
      ],
      "execution_count": 85,
      "outputs": []
    },
    {
      "cell_type": "code",
      "metadata": {
        "id": "bLfH0BGqmTYX",
        "colab_type": "code",
        "colab": {
          "base_uri": "https://localhost:8080/",
          "height": 420
        },
        "outputId": "8cb37add-3e67-40ed-e56b-d93782760d7f"
      },
      "source": [
        "#https://stackoverflow.com/questions/55240330/how-to-read-csv-file-from-github-using-pandas\n",
        "url='https://raw.githubusercontent.com/egarrigo/Mentoria/master/P2/Nueva_Base_Obesidad_CURADA_v2.csv'\n",
        "pd.set_option('display.max_columns', 8)\n",
        "ds = pd.read_csv(url,index_col=0)\n",
        "ds"
      ],
      "execution_count": 86,
      "outputs": [
        {
          "output_type": "execute_result",
          "data": {
            "text/html": [
              "<div>\n",
              "<style scoped>\n",
              "    .dataframe tbody tr th:only-of-type {\n",
              "        vertical-align: middle;\n",
              "    }\n",
              "\n",
              "    .dataframe tbody tr th {\n",
              "        vertical-align: top;\n",
              "    }\n",
              "\n",
              "    .dataframe thead th {\n",
              "        text-align: right;\n",
              "    }\n",
              "</style>\n",
              "<table border=\"1\" class=\"dataframe\">\n",
              "  <thead>\n",
              "    <tr style=\"text-align: right;\">\n",
              "      <th></th>\n",
              "      <th>dia</th>\n",
              "      <th>mes</th>\n",
              "      <th>est</th>\n",
              "      <th>ecar</th>\n",
              "      <th>...</th>\n",
              "      <th>id</th>\n",
              "      <th>dni</th>\n",
              "      <th>cod_encuestador</th>\n",
              "      <th>cod_enc</th>\n",
              "    </tr>\n",
              "    <tr>\n",
              "      <th>n_encuesta</th>\n",
              "      <th></th>\n",
              "      <th></th>\n",
              "      <th></th>\n",
              "      <th></th>\n",
              "      <th></th>\n",
              "      <th></th>\n",
              "      <th></th>\n",
              "      <th></th>\n",
              "      <th></th>\n",
              "    </tr>\n",
              "  </thead>\n",
              "  <tbody>\n",
              "    <tr>\n",
              "      <th>378</th>\n",
              "      <td>1</td>\n",
              "      <td>diciembre</td>\n",
              "      <td>4</td>\n",
              "      <td>1</td>\n",
              "      <td>...</td>\n",
              "      <td>375.00</td>\n",
              "      <td>341e6bbab0ea02aa9133</td>\n",
              "      <td>08fb79e84d13354a102d</td>\n",
              "      <td>10.00</td>\n",
              "    </tr>\n",
              "    <tr>\n",
              "      <th>3877</th>\n",
              "      <td>1</td>\n",
              "      <td>agosto</td>\n",
              "      <td>3</td>\n",
              "      <td>1</td>\n",
              "      <td>...</td>\n",
              "      <td>3863.00</td>\n",
              "      <td>1c51cd9231c35149f271</td>\n",
              "      <td>6187a815dcc4a5a9f121</td>\n",
              "      <td>1.00</td>\n",
              "    </tr>\n",
              "    <tr>\n",
              "      <th>1966</th>\n",
              "      <td>2</td>\n",
              "      <td>diciembre</td>\n",
              "      <td>4</td>\n",
              "      <td>1</td>\n",
              "      <td>...</td>\n",
              "      <td>1953.00</td>\n",
              "      <td>b35323c659b67621ab2e</td>\n",
              "      <td>b80a871be586d14930a6</td>\n",
              "      <td>2.00</td>\n",
              "    </tr>\n",
              "    <tr>\n",
              "      <th>2711</th>\n",
              "      <td>1</td>\n",
              "      <td>septiembre</td>\n",
              "      <td>3</td>\n",
              "      <td>1</td>\n",
              "      <td>...</td>\n",
              "      <td>2698.00</td>\n",
              "      <td>fc2df9b5965b62326bdf</td>\n",
              "      <td>2450570e4d973e0a0274</td>\n",
              "      <td>12.00</td>\n",
              "    </tr>\n",
              "    <tr>\n",
              "      <th>876</th>\n",
              "      <td>2</td>\n",
              "      <td>noviembre</td>\n",
              "      <td>4</td>\n",
              "      <td>1</td>\n",
              "      <td>...</td>\n",
              "      <td>863.00</td>\n",
              "      <td>ba94145882f9865f8507</td>\n",
              "      <td>3a1a96bf62d32997aff7</td>\n",
              "      <td>6.00</td>\n",
              "    </tr>\n",
              "    <tr>\n",
              "      <th>...</th>\n",
              "      <td>...</td>\n",
              "      <td>...</td>\n",
              "      <td>...</td>\n",
              "      <td>...</td>\n",
              "      <td>...</td>\n",
              "      <td>...</td>\n",
              "      <td>...</td>\n",
              "      <td>...</td>\n",
              "      <td>...</td>\n",
              "    </tr>\n",
              "    <tr>\n",
              "      <th>2633</th>\n",
              "      <td>3</td>\n",
              "      <td>septiembre</td>\n",
              "      <td>3</td>\n",
              "      <td>2</td>\n",
              "      <td>...</td>\n",
              "      <td>2620.00</td>\n",
              "      <td>68147c881db0f5bc9d0b</td>\n",
              "      <td>3a1a96bf62d32997aff7</td>\n",
              "      <td>6.00</td>\n",
              "    </tr>\n",
              "    <tr>\n",
              "      <th>128</th>\n",
              "      <td>7</td>\n",
              "      <td>diciembre</td>\n",
              "      <td>4</td>\n",
              "      <td>1</td>\n",
              "      <td>...</td>\n",
              "      <td>128.00</td>\n",
              "      <td>be423a28803a0b2a6a73</td>\n",
              "      <td>08fb79e84d13354a102d</td>\n",
              "      <td>10.00</td>\n",
              "    </tr>\n",
              "    <tr>\n",
              "      <th>1437</th>\n",
              "      <td>4</td>\n",
              "      <td>noviembre</td>\n",
              "      <td>1</td>\n",
              "      <td>1</td>\n",
              "      <td>...</td>\n",
              "      <td>1424.00</td>\n",
              "      <td>299f9696ddc0c234cfe3</td>\n",
              "      <td>08fb79e84d13354a102d</td>\n",
              "      <td>10.00</td>\n",
              "    </tr>\n",
              "    <tr>\n",
              "      <th>3861</th>\n",
              "      <td>3</td>\n",
              "      <td>agosto</td>\n",
              "      <td>3</td>\n",
              "      <td>2</td>\n",
              "      <td>...</td>\n",
              "      <td>3847.00</td>\n",
              "      <td>18be9e867e65d187657c</td>\n",
              "      <td>08fb79e84d13354a102d</td>\n",
              "      <td>10.00</td>\n",
              "    </tr>\n",
              "    <tr>\n",
              "      <th>1306</th>\n",
              "      <td>4</td>\n",
              "      <td>noviembre</td>\n",
              "      <td>4</td>\n",
              "      <td>1</td>\n",
              "      <td>...</td>\n",
              "      <td>1293.00</td>\n",
              "      <td>6c26a6c1180384e36460</td>\n",
              "      <td>5cff333a100cca884cd0</td>\n",
              "      <td>8.00</td>\n",
              "    </tr>\n",
              "  </tbody>\n",
              "</table>\n",
              "<p>4288 rows × 241 columns</p>\n",
              "</div>"
            ],
            "text/plain": [
              "            dia         mes  est  ecar  ...      id                   dni  \\\n",
              "n_encuesta                              ...                                 \n",
              "378           1   diciembre    4     1  ...  375.00  341e6bbab0ea02aa9133   \n",
              "3877          1      agosto    3     1  ... 3863.00  1c51cd9231c35149f271   \n",
              "1966          2   diciembre    4     1  ... 1953.00  b35323c659b67621ab2e   \n",
              "2711          1  septiembre    3     1  ... 2698.00  fc2df9b5965b62326bdf   \n",
              "876           2   noviembre    4     1  ...  863.00  ba94145882f9865f8507   \n",
              "...         ...         ...  ...   ...  ...     ...                   ...   \n",
              "2633          3  septiembre    3     2  ... 2620.00  68147c881db0f5bc9d0b   \n",
              "128           7   diciembre    4     1  ...  128.00  be423a28803a0b2a6a73   \n",
              "1437          4   noviembre    1     1  ... 1424.00  299f9696ddc0c234cfe3   \n",
              "3861          3      agosto    3     2  ... 3847.00  18be9e867e65d187657c   \n",
              "1306          4   noviembre    4     1  ... 1293.00  6c26a6c1180384e36460   \n",
              "\n",
              "                 cod_encuestador  cod_enc  \n",
              "n_encuesta                                 \n",
              "378         08fb79e84d13354a102d    10.00  \n",
              "3877        6187a815dcc4a5a9f121     1.00  \n",
              "1966        b80a871be586d14930a6     2.00  \n",
              "2711        2450570e4d973e0a0274    12.00  \n",
              "876         3a1a96bf62d32997aff7     6.00  \n",
              "...                          ...      ...  \n",
              "2633        3a1a96bf62d32997aff7     6.00  \n",
              "128         08fb79e84d13354a102d    10.00  \n",
              "1437        08fb79e84d13354a102d    10.00  \n",
              "3861        08fb79e84d13354a102d    10.00  \n",
              "1306        5cff333a100cca884cd0     8.00  \n",
              "\n",
              "[4288 rows x 241 columns]"
            ]
          },
          "metadata": {
            "tags": []
          },
          "execution_count": 86
        }
      ]
    },
    {
      "cell_type": "markdown",
      "metadata": {
        "id": "13fuwb39meKD",
        "colab_type": "text"
      },
      "source": [
        "## 1.Crear una variable que responda a la demanda (obesidad = IMC > 29.9)"
      ]
    },
    {
      "cell_type": "code",
      "metadata": {
        "id": "iy_qGafpq9nD",
        "colab_type": "code",
        "colab": {
          "base_uri": "https://localhost:8080/",
          "height": 33
        },
        "outputId": "b3d5ada8-b334-4631-b912-29bdda5b63c6"
      },
      "source": [
        "ds.IMC.min(),ds.IMC.max()"
      ],
      "execution_count": 87,
      "outputs": [
        {
          "output_type": "execute_result",
          "data": {
            "text/plain": [
              "(14.764616454946015, 51.111111111111114)"
            ]
          },
          "metadata": {
            "tags": []
          },
          "execution_count": 87
        }
      ]
    },
    {
      "cell_type": "code",
      "metadata": {
        "id": "AhjawekdrAul",
        "colab_type": "code",
        "colab": {
          "base_uri": "https://localhost:8080/",
          "height": 420
        },
        "outputId": "89cd9ccf-70b0-4485-9754-78b75fb8d9eb"
      },
      "source": [
        "#Hacemos una segmentacion de IMC y lo agregamos a la tabla ds\n",
        "\n",
        "bins = pd.IntervalIndex.from_tuples([(14,29.9),(29.9,52)])\n",
        "imc_segment=pd.cut(ds.IMC, bins)\n",
        "ds['obeso'] = imc_segment\n",
        "ds"
      ],
      "execution_count": 88,
      "outputs": [
        {
          "output_type": "execute_result",
          "data": {
            "text/html": [
              "<div>\n",
              "<style scoped>\n",
              "    .dataframe tbody tr th:only-of-type {\n",
              "        vertical-align: middle;\n",
              "    }\n",
              "\n",
              "    .dataframe tbody tr th {\n",
              "        vertical-align: top;\n",
              "    }\n",
              "\n",
              "    .dataframe thead th {\n",
              "        text-align: right;\n",
              "    }\n",
              "</style>\n",
              "<table border=\"1\" class=\"dataframe\">\n",
              "  <thead>\n",
              "    <tr style=\"text-align: right;\">\n",
              "      <th></th>\n",
              "      <th>dia</th>\n",
              "      <th>mes</th>\n",
              "      <th>est</th>\n",
              "      <th>ecar</th>\n",
              "      <th>...</th>\n",
              "      <th>dni</th>\n",
              "      <th>cod_encuestador</th>\n",
              "      <th>cod_enc</th>\n",
              "      <th>obeso</th>\n",
              "    </tr>\n",
              "    <tr>\n",
              "      <th>n_encuesta</th>\n",
              "      <th></th>\n",
              "      <th></th>\n",
              "      <th></th>\n",
              "      <th></th>\n",
              "      <th></th>\n",
              "      <th></th>\n",
              "      <th></th>\n",
              "      <th></th>\n",
              "      <th></th>\n",
              "    </tr>\n",
              "  </thead>\n",
              "  <tbody>\n",
              "    <tr>\n",
              "      <th>378</th>\n",
              "      <td>1</td>\n",
              "      <td>diciembre</td>\n",
              "      <td>4</td>\n",
              "      <td>1</td>\n",
              "      <td>...</td>\n",
              "      <td>341e6bbab0ea02aa9133</td>\n",
              "      <td>08fb79e84d13354a102d</td>\n",
              "      <td>10.00</td>\n",
              "      <td>(29.9, 52.0]</td>\n",
              "    </tr>\n",
              "    <tr>\n",
              "      <th>3877</th>\n",
              "      <td>1</td>\n",
              "      <td>agosto</td>\n",
              "      <td>3</td>\n",
              "      <td>1</td>\n",
              "      <td>...</td>\n",
              "      <td>1c51cd9231c35149f271</td>\n",
              "      <td>6187a815dcc4a5a9f121</td>\n",
              "      <td>1.00</td>\n",
              "      <td>(14.0, 29.9]</td>\n",
              "    </tr>\n",
              "    <tr>\n",
              "      <th>1966</th>\n",
              "      <td>2</td>\n",
              "      <td>diciembre</td>\n",
              "      <td>4</td>\n",
              "      <td>1</td>\n",
              "      <td>...</td>\n",
              "      <td>b35323c659b67621ab2e</td>\n",
              "      <td>b80a871be586d14930a6</td>\n",
              "      <td>2.00</td>\n",
              "      <td>(14.0, 29.9]</td>\n",
              "    </tr>\n",
              "    <tr>\n",
              "      <th>2711</th>\n",
              "      <td>1</td>\n",
              "      <td>septiembre</td>\n",
              "      <td>3</td>\n",
              "      <td>1</td>\n",
              "      <td>...</td>\n",
              "      <td>fc2df9b5965b62326bdf</td>\n",
              "      <td>2450570e4d973e0a0274</td>\n",
              "      <td>12.00</td>\n",
              "      <td>(14.0, 29.9]</td>\n",
              "    </tr>\n",
              "    <tr>\n",
              "      <th>876</th>\n",
              "      <td>2</td>\n",
              "      <td>noviembre</td>\n",
              "      <td>4</td>\n",
              "      <td>1</td>\n",
              "      <td>...</td>\n",
              "      <td>ba94145882f9865f8507</td>\n",
              "      <td>3a1a96bf62d32997aff7</td>\n",
              "      <td>6.00</td>\n",
              "      <td>(14.0, 29.9]</td>\n",
              "    </tr>\n",
              "    <tr>\n",
              "      <th>...</th>\n",
              "      <td>...</td>\n",
              "      <td>...</td>\n",
              "      <td>...</td>\n",
              "      <td>...</td>\n",
              "      <td>...</td>\n",
              "      <td>...</td>\n",
              "      <td>...</td>\n",
              "      <td>...</td>\n",
              "      <td>...</td>\n",
              "    </tr>\n",
              "    <tr>\n",
              "      <th>2633</th>\n",
              "      <td>3</td>\n",
              "      <td>septiembre</td>\n",
              "      <td>3</td>\n",
              "      <td>2</td>\n",
              "      <td>...</td>\n",
              "      <td>68147c881db0f5bc9d0b</td>\n",
              "      <td>3a1a96bf62d32997aff7</td>\n",
              "      <td>6.00</td>\n",
              "      <td>(29.9, 52.0]</td>\n",
              "    </tr>\n",
              "    <tr>\n",
              "      <th>128</th>\n",
              "      <td>7</td>\n",
              "      <td>diciembre</td>\n",
              "      <td>4</td>\n",
              "      <td>1</td>\n",
              "      <td>...</td>\n",
              "      <td>be423a28803a0b2a6a73</td>\n",
              "      <td>08fb79e84d13354a102d</td>\n",
              "      <td>10.00</td>\n",
              "      <td>(14.0, 29.9]</td>\n",
              "    </tr>\n",
              "    <tr>\n",
              "      <th>1437</th>\n",
              "      <td>4</td>\n",
              "      <td>noviembre</td>\n",
              "      <td>1</td>\n",
              "      <td>1</td>\n",
              "      <td>...</td>\n",
              "      <td>299f9696ddc0c234cfe3</td>\n",
              "      <td>08fb79e84d13354a102d</td>\n",
              "      <td>10.00</td>\n",
              "      <td>(14.0, 29.9]</td>\n",
              "    </tr>\n",
              "    <tr>\n",
              "      <th>3861</th>\n",
              "      <td>3</td>\n",
              "      <td>agosto</td>\n",
              "      <td>3</td>\n",
              "      <td>2</td>\n",
              "      <td>...</td>\n",
              "      <td>18be9e867e65d187657c</td>\n",
              "      <td>08fb79e84d13354a102d</td>\n",
              "      <td>10.00</td>\n",
              "      <td>(14.0, 29.9]</td>\n",
              "    </tr>\n",
              "    <tr>\n",
              "      <th>1306</th>\n",
              "      <td>4</td>\n",
              "      <td>noviembre</td>\n",
              "      <td>4</td>\n",
              "      <td>1</td>\n",
              "      <td>...</td>\n",
              "      <td>6c26a6c1180384e36460</td>\n",
              "      <td>5cff333a100cca884cd0</td>\n",
              "      <td>8.00</td>\n",
              "      <td>(14.0, 29.9]</td>\n",
              "    </tr>\n",
              "  </tbody>\n",
              "</table>\n",
              "<p>4288 rows × 242 columns</p>\n",
              "</div>"
            ],
            "text/plain": [
              "            dia         mes  est  ecar  ...                   dni  \\\n",
              "n_encuesta                              ...                         \n",
              "378           1   diciembre    4     1  ...  341e6bbab0ea02aa9133   \n",
              "3877          1      agosto    3     1  ...  1c51cd9231c35149f271   \n",
              "1966          2   diciembre    4     1  ...  b35323c659b67621ab2e   \n",
              "2711          1  septiembre    3     1  ...  fc2df9b5965b62326bdf   \n",
              "876           2   noviembre    4     1  ...  ba94145882f9865f8507   \n",
              "...         ...         ...  ...   ...  ...                   ...   \n",
              "2633          3  septiembre    3     2  ...  68147c881db0f5bc9d0b   \n",
              "128           7   diciembre    4     1  ...  be423a28803a0b2a6a73   \n",
              "1437          4   noviembre    1     1  ...  299f9696ddc0c234cfe3   \n",
              "3861          3      agosto    3     2  ...  18be9e867e65d187657c   \n",
              "1306          4   noviembre    4     1  ...  6c26a6c1180384e36460   \n",
              "\n",
              "                 cod_encuestador  cod_enc         obeso  \n",
              "n_encuesta                                               \n",
              "378         08fb79e84d13354a102d    10.00  (29.9, 52.0]  \n",
              "3877        6187a815dcc4a5a9f121     1.00  (14.0, 29.9]  \n",
              "1966        b80a871be586d14930a6     2.00  (14.0, 29.9]  \n",
              "2711        2450570e4d973e0a0274    12.00  (14.0, 29.9]  \n",
              "876         3a1a96bf62d32997aff7     6.00  (14.0, 29.9]  \n",
              "...                          ...      ...           ...  \n",
              "2633        3a1a96bf62d32997aff7     6.00  (29.9, 52.0]  \n",
              "128         08fb79e84d13354a102d    10.00  (14.0, 29.9]  \n",
              "1437        08fb79e84d13354a102d    10.00  (14.0, 29.9]  \n",
              "3861        08fb79e84d13354a102d    10.00  (14.0, 29.9]  \n",
              "1306        5cff333a100cca884cd0     8.00  (14.0, 29.9]  \n",
              "\n",
              "[4288 rows x 242 columns]"
            ]
          },
          "metadata": {
            "tags": []
          },
          "execution_count": 88
        }
      ]
    },
    {
      "cell_type": "code",
      "metadata": {
        "id": "TBtJGXGzrMK-",
        "colab_type": "code",
        "colab": {
          "base_uri": "https://localhost:8080/",
          "height": 82
        },
        "outputId": "09f71755-1ac9-464f-aff3-c2b138881c14"
      },
      "source": [
        "#corroboramos que no hay errores en la segmentacion\n",
        "IMCDS=ds[['IMC','obeso']]\n",
        "IMCDS.head()\n",
        "\n",
        "print(IMCDS[IMCDS.IMC < 29.9].shape, \"\\n\",IMCDS.obeso.value_counts())\n",
        "#ambos tiene 3564 datos. La segmentacion funciono. \n",
        "\n",
        "#83% \"normales\"\n",
        "#17% obesos"
      ],
      "execution_count": 89,
      "outputs": [
        {
          "output_type": "stream",
          "text": [
            "(3560, 2) \n",
            " (14.0, 29.9]    3560\n",
            "(29.9, 52.0]     728\n",
            "Name: obeso, dtype: int64\n"
          ],
          "name": "stdout"
        }
      ]
    },
    {
      "cell_type": "markdown",
      "metadata": {
        "id": "StEFXqc4c4sE",
        "colab_type": "text"
      },
      "source": [
        "Analisis previo del dataset: Como se puede ver el grafico `countplot` el atributo `obeso` se encuentra desbalanceados, ya que existen mas datos de encuesados \"normales\" = IMC(14.0, 29.9), que para aquellos que calsificados como \"obesos\" = IMC (29.9,52.0)."
      ]
    },
    {
      "cell_type": "code",
      "metadata": {
        "id": "w4v8zYaKcsIX",
        "colab_type": "code",
        "colab": {
          "base_uri": "https://localhost:8080/",
          "height": 512
        },
        "outputId": "04c6092b-9d45-480d-c345-b61fcf1ed70d"
      },
      "source": [
        "import matplotlib.pyplot as plt\n",
        "\n",
        "plt.figure(figsize=(8, 8))\n",
        "sns.countplot(ds.obeso)\n",
        "plt.title('Countplot segun IMC')\n",
        "plt.show()"
      ],
      "execution_count": 90,
      "outputs": [
        {
          "output_type": "display_data",
          "data": {
            "image/png": "[encoded data removed]",
            "text/plain": [
              "<Figure size 576x576 with 1 Axes>"
            ]
          },
          "metadata": {
            "tags": [],
            "needs_background": "light"
          }
        }
      ]
    },
    {
      "cell_type": "code",
      "metadata": {
        "id": "Zj6v-5qFrVa2",
        "colab_type": "code",
        "colab": {
          "base_uri": "https://localhost:8080/",
          "height": 50
        },
        "outputId": "19ce7d21-dfb6-4935-cc56-98cad3903d39"
      },
      "source": [
        "#etiquetamos el valor de la obesidad binario: 0 y 1\n",
        "#Interval(14.0, 29.9, closed='right'): 0,\n",
        "#Interval(29.9, 52.0, closed='right'): 1, si es obeso.\n",
        "\n",
        "\n",
        "le = preprocessing.LabelEncoder()\n",
        "le.fit(ds.obeso)\n",
        "dict(zip(le.classes_,le.transform(le.classes_)))"
      ],
      "execution_count": 91,
      "outputs": [
        {
          "output_type": "execute_result",
          "data": {
            "text/plain": [
              "{Interval(14.0, 29.9, closed='right'): 0,\n",
              " Interval(29.9, 52.0, closed='right'): 1}"
            ]
          },
          "metadata": {
            "tags": []
          },
          "execution_count": 91
        }
      ]
    },
    {
      "cell_type": "code",
      "metadata": {
        "id": "4ELm2WMnrhu9",
        "colab_type": "code",
        "colab": {}
      },
      "source": [
        "ds[\"obeso\"] = le.transform(ds.obeso)"
      ],
      "execution_count": 92,
      "outputs": []
    },
    {
      "cell_type": "code",
      "metadata": {
        "id": "q4tp-lwarlrG",
        "colab_type": "code",
        "colab": {
          "base_uri": "https://localhost:8080/",
          "height": 420
        },
        "outputId": "b4a6fe92-b9a2-4709-8bbd-9d0dcc15a7c2"
      },
      "source": [
        "ds"
      ],
      "execution_count": 93,
      "outputs": [
        {
          "output_type": "execute_result",
          "data": {
            "text/html": [
              "<div>\n",
              "<style scoped>\n",
              "    .dataframe tbody tr th:only-of-type {\n",
              "        vertical-align: middle;\n",
              "    }\n",
              "\n",
              "    .dataframe tbody tr th {\n",
              "        vertical-align: top;\n",
              "    }\n",
              "\n",
              "    .dataframe thead th {\n",
              "        text-align: right;\n",
              "    }\n",
              "</style>\n",
              "<table border=\"1\" class=\"dataframe\">\n",
              "  <thead>\n",
              "    <tr style=\"text-align: right;\">\n",
              "      <th></th>\n",
              "      <th>dia</th>\n",
              "      <th>mes</th>\n",
              "      <th>est</th>\n",
              "      <th>ecar</th>\n",
              "      <th>...</th>\n",
              "      <th>dni</th>\n",
              "      <th>cod_encuestador</th>\n",
              "      <th>cod_enc</th>\n",
              "      <th>obeso</th>\n",
              "    </tr>\n",
              "    <tr>\n",
              "      <th>n_encuesta</th>\n",
              "      <th></th>\n",
              "      <th></th>\n",
              "      <th></th>\n",
              "      <th></th>\n",
              "      <th></th>\n",
              "      <th></th>\n",
              "      <th></th>\n",
              "      <th></th>\n",
              "      <th></th>\n",
              "    </tr>\n",
              "  </thead>\n",
              "  <tbody>\n",
              "    <tr>\n",
              "      <th>378</th>\n",
              "      <td>1</td>\n",
              "      <td>diciembre</td>\n",
              "      <td>4</td>\n",
              "      <td>1</td>\n",
              "      <td>...</td>\n",
              "      <td>341e6bbab0ea02aa9133</td>\n",
              "      <td>08fb79e84d13354a102d</td>\n",
              "      <td>10.00</td>\n",
              "      <td>1</td>\n",
              "    </tr>\n",
              "    <tr>\n",
              "      <th>3877</th>\n",
              "      <td>1</td>\n",
              "      <td>agosto</td>\n",
              "      <td>3</td>\n",
              "      <td>1</td>\n",
              "      <td>...</td>\n",
              "      <td>1c51cd9231c35149f271</td>\n",
              "      <td>6187a815dcc4a5a9f121</td>\n",
              "      <td>1.00</td>\n",
              "      <td>0</td>\n",
              "    </tr>\n",
              "    <tr>\n",
              "      <th>1966</th>\n",
              "      <td>2</td>\n",
              "      <td>diciembre</td>\n",
              "      <td>4</td>\n",
              "      <td>1</td>\n",
              "      <td>...</td>\n",
              "      <td>b35323c659b67621ab2e</td>\n",
              "      <td>b80a871be586d14930a6</td>\n",
              "      <td>2.00</td>\n",
              "      <td>0</td>\n",
              "    </tr>\n",
              "    <tr>\n",
              "      <th>2711</th>\n",
              "      <td>1</td>\n",
              "      <td>septiembre</td>\n",
              "      <td>3</td>\n",
              "      <td>1</td>\n",
              "      <td>...</td>\n",
              "      <td>fc2df9b5965b62326bdf</td>\n",
              "      <td>2450570e4d973e0a0274</td>\n",
              "      <td>12.00</td>\n",
              "      <td>0</td>\n",
              "    </tr>\n",
              "    <tr>\n",
              "      <th>876</th>\n",
              "      <td>2</td>\n",
              "      <td>noviembre</td>\n",
              "      <td>4</td>\n",
              "      <td>1</td>\n",
              "      <td>...</td>\n",
              "      <td>ba94145882f9865f8507</td>\n",
              "      <td>3a1a96bf62d32997aff7</td>\n",
              "      <td>6.00</td>\n",
              "      <td>0</td>\n",
              "    </tr>\n",
              "    <tr>\n",
              "      <th>...</th>\n",
              "      <td>...</td>\n",
              "      <td>...</td>\n",
              "      <td>...</td>\n",
              "      <td>...</td>\n",
              "      <td>...</td>\n",
              "      <td>...</td>\n",
              "      <td>...</td>\n",
              "      <td>...</td>\n",
              "      <td>...</td>\n",
              "    </tr>\n",
              "    <tr>\n",
              "      <th>2633</th>\n",
              "      <td>3</td>\n",
              "      <td>septiembre</td>\n",
              "      <td>3</td>\n",
              "      <td>2</td>\n",
              "      <td>...</td>\n",
              "      <td>68147c881db0f5bc9d0b</td>\n",
              "      <td>3a1a96bf62d32997aff7</td>\n",
              "      <td>6.00</td>\n",
              "      <td>1</td>\n",
              "    </tr>\n",
              "    <tr>\n",
              "      <th>128</th>\n",
              "      <td>7</td>\n",
              "      <td>diciembre</td>\n",
              "      <td>4</td>\n",
              "      <td>1</td>\n",
              "      <td>...</td>\n",
              "      <td>be423a28803a0b2a6a73</td>\n",
              "      <td>08fb79e84d13354a102d</td>\n",
              "      <td>10.00</td>\n",
              "      <td>0</td>\n",
              "    </tr>\n",
              "    <tr>\n",
              "      <th>1437</th>\n",
              "      <td>4</td>\n",
              "      <td>noviembre</td>\n",
              "      <td>1</td>\n",
              "      <td>1</td>\n",
              "      <td>...</td>\n",
              "      <td>299f9696ddc0c234cfe3</td>\n",
              "      <td>08fb79e84d13354a102d</td>\n",
              "      <td>10.00</td>\n",
              "      <td>0</td>\n",
              "    </tr>\n",
              "    <tr>\n",
              "      <th>3861</th>\n",
              "      <td>3</td>\n",
              "      <td>agosto</td>\n",
              "      <td>3</td>\n",
              "      <td>2</td>\n",
              "      <td>...</td>\n",
              "      <td>18be9e867e65d187657c</td>\n",
              "      <td>08fb79e84d13354a102d</td>\n",
              "      <td>10.00</td>\n",
              "      <td>0</td>\n",
              "    </tr>\n",
              "    <tr>\n",
              "      <th>1306</th>\n",
              "      <td>4</td>\n",
              "      <td>noviembre</td>\n",
              "      <td>4</td>\n",
              "      <td>1</td>\n",
              "      <td>...</td>\n",
              "      <td>6c26a6c1180384e36460</td>\n",
              "      <td>5cff333a100cca884cd0</td>\n",
              "      <td>8.00</td>\n",
              "      <td>0</td>\n",
              "    </tr>\n",
              "  </tbody>\n",
              "</table>\n",
              "<p>4288 rows × 242 columns</p>\n",
              "</div>"
            ],
            "text/plain": [
              "            dia         mes  est  ecar  ...                   dni  \\\n",
              "n_encuesta                              ...                         \n",
              "378           1   diciembre    4     1  ...  341e6bbab0ea02aa9133   \n",
              "3877          1      agosto    3     1  ...  1c51cd9231c35149f271   \n",
              "1966          2   diciembre    4     1  ...  b35323c659b67621ab2e   \n",
              "2711          1  septiembre    3     1  ...  fc2df9b5965b62326bdf   \n",
              "876           2   noviembre    4     1  ...  ba94145882f9865f8507   \n",
              "...         ...         ...  ...   ...  ...                   ...   \n",
              "2633          3  septiembre    3     2  ...  68147c881db0f5bc9d0b   \n",
              "128           7   diciembre    4     1  ...  be423a28803a0b2a6a73   \n",
              "1437          4   noviembre    1     1  ...  299f9696ddc0c234cfe3   \n",
              "3861          3      agosto    3     2  ...  18be9e867e65d187657c   \n",
              "1306          4   noviembre    4     1  ...  6c26a6c1180384e36460   \n",
              "\n",
              "                 cod_encuestador  cod_enc  obeso  \n",
              "n_encuesta                                        \n",
              "378         08fb79e84d13354a102d    10.00      1  \n",
              "3877        6187a815dcc4a5a9f121     1.00      0  \n",
              "1966        b80a871be586d14930a6     2.00      0  \n",
              "2711        2450570e4d973e0a0274    12.00      0  \n",
              "876         3a1a96bf62d32997aff7     6.00      0  \n",
              "...                          ...      ...    ...  \n",
              "2633        3a1a96bf62d32997aff7     6.00      1  \n",
              "128         08fb79e84d13354a102d    10.00      0  \n",
              "1437        08fb79e84d13354a102d    10.00      0  \n",
              "3861        08fb79e84d13354a102d    10.00      0  \n",
              "1306        5cff333a100cca884cd0     8.00      0  \n",
              "\n",
              "[4288 rows x 242 columns]"
            ]
          },
          "metadata": {
            "tags": []
          },
          "execution_count": 93
        }
      ]
    },
    {
      "cell_type": "markdown",
      "metadata": {
        "id": "BShIE1Qpro8H",
        "colab_type": "text"
      },
      "source": [
        "**Conclusion**: ahora en el dataset hay un feature llamado \"obeso\" el cual tiene valor 1 si la persona presenta una IMC > 29.9 y por lo tanto obeso. Valor de 0 si si la persona presenta una IMC < 29.9."
      ]
    },
    {
      "cell_type": "markdown",
      "metadata": {
        "id": "UzWfbYb2nT42",
        "colab_type": "text"
      },
      "source": [
        "## 2.Cargar los datos, separando del dataset la etiqueta a predecir."
      ]
    },
    {
      "cell_type": "code",
      "metadata": {
        "id": "qEw8kUqS2jPB",
        "colab_type": "code",
        "colab": {
          "base_uri": "https://localhost:8080/",
          "height": 342
        },
        "outputId": "b1946872-7c06-4d49-b9e4-284456fada32"
      },
      "source": [
        "## Filtramos los 16 features seleccionados con los que vamos a trabajar mas el Target\n",
        "\n",
        "columnas = ['sexo','dlp', 'hta', 'tipo2', 'cancer', 'actfis', 'stress', 'imag', 'nes', 'peso','eent', 'cc', 'fgl1', 'fgr1', 'falco', \n",
        "            'fgas', 'fcrap', 'obeso']\n",
        "\n",
        "# Generamos los DataFrame de poblacion total, masculino y femenino\n",
        "\n",
        "df = ds[columnas]\n",
        "#df = df.dropna(axis=0, subset=['dbt_tipo2'])\n",
        "#df = df.dropna(axis=0, subset=['cancer'])\n",
        "#df = df.dropna(axis=0, subset=['fgr1'])\n",
        "\n",
        "\n",
        "df_fem = df[df['sexo'] == 0]\n",
        "df_masc = df[df['sexo'] == 1]\n",
        "\n",
        "\n",
        "\n",
        "# Separamos el TARGET que es 'obeso'\n",
        "ob = df.obeso\n",
        "ob_fem = df_fem.obeso\n",
        "ob_masc = df_masc.obeso\n",
        "\n",
        "#Removemos los feature 'sexo' y 'obeso'\n",
        "lista = ['sexo', 'obeso']\n",
        "for i in lista:\n",
        "  del(df[i])\n",
        "  del(df_fem[i])\n",
        "  del(df_masc[i])\n",
        "\n",
        "#Verificamos los tamaños de los dataframe\n",
        "print('df : ',df.shape, ob.shape)\n",
        "print('df_masc : ', df_masc.shape, ob_masc.shape) \n",
        "print('df_fem : ', df_fem.shape, ob_fem.shape) \n",
        "\n",
        "df.isnull().sum()"
      ],
      "execution_count": 94,
      "outputs": [
        {
          "output_type": "stream",
          "text": [
            "df :  (4288, 16) (4288,)\n",
            "df_masc :  (1814, 16) (1814,)\n",
            "df_fem :  (2474, 16) (2474,)\n"
          ],
          "name": "stdout"
        },
        {
          "output_type": "execute_result",
          "data": {
            "text/plain": [
              "dlp       0\n",
              "hta       0\n",
              "tipo2     0\n",
              "cancer    0\n",
              "actfis    0\n",
              "stress    0\n",
              "imag      0\n",
              "nes       0\n",
              "peso      0\n",
              "eent      0\n",
              "cc        0\n",
              "fgl1      0\n",
              "fgr1      0\n",
              "falco     0\n",
              "fgas      0\n",
              "fcrap     0\n",
              "dtype: int64"
            ]
          },
          "metadata": {
            "tags": []
          },
          "execution_count": 94
        }
      ]
    },
    {
      "cell_type": "code",
      "metadata": {
        "id": "HjI3NZakoiTy",
        "colab_type": "code",
        "colab": {
          "base_uri": "https://localhost:8080/",
          "height": 33
        },
        "outputId": "29febd77-dbce-45c1-91ab-89ff32ca465f"
      },
      "source": [
        "#Convertimos el TARGET en array\n",
        "#To get numpy array\n",
        "#https://stackoverflow.com/questions/44238796/convert-pandas-series-into-numpy-array\n",
        "\n",
        "ob_true = ob.values\n",
        "ob_fem_true = ob_fem.values\n",
        "ob_masc_true = ob_masc.values\n",
        "\n",
        "ob_true, ob_true.shape #array"
      ],
      "execution_count": 95,
      "outputs": [
        {
          "output_type": "execute_result",
          "data": {
            "text/plain": [
              "(array([1, 0, 0, ..., 0, 0, 0]), (4288,))"
            ]
          },
          "metadata": {
            "tags": []
          },
          "execution_count": 95
        }
      ]
    },
    {
      "cell_type": "code",
      "metadata": {
        "id": "w3X3Zmq1qk3R",
        "colab_type": "code",
        "colab": {
          "base_uri": "https://localhost:8080/",
          "height": 66
        },
        "outputId": "115e9bbf-f67d-4056-d441-40c893b30581"
      },
      "source": [
        "#Verificamos los tamaños de los array\n",
        "print('ob : ',ob_true, ob_true.shape)\n",
        "print('ob_masc : ', ob_masc_true, ob_masc_true.shape) \n",
        "print('ob_fem : ', ob_fem_true, ob_fem_true.shape) "
      ],
      "execution_count": 96,
      "outputs": [
        {
          "output_type": "stream",
          "text": [
            "ob :  [1 0 0 ... 0 0 0] (4288,)\n",
            "ob_masc :  [0 0 0 ... 1 0 0] (1814,)\n",
            "ob_fem :  [1 0 0 ... 0 0 0] (2474,)\n"
          ],
          "name": "stdout"
        }
      ]
    },
    {
      "cell_type": "code",
      "metadata": {
        "colab_type": "code",
        "id": "isXhcJ_l_4Mb",
        "colab": {
          "base_uri": "https://localhost:8080/",
          "height": 66
        },
        "outputId": "7d53c756-f752-450f-89e3-dd2048beb310"
      },
      "source": [
        "#Creamos a partir del dataset, nuestro vector con datos para la prediccion \"X_values\" que tiene 4288 entradas y 16 features\n",
        "#Repetimos lo mismo para los subgrupos fem y masc\n",
        "\n",
        "x_values=df.to_numpy()\n",
        "x_values_fem=df_fem.to_numpy()\n",
        "x_values_masc=df_masc.to_numpy()\n",
        "\n",
        "#Verificamos los tamaños de las matrices\n",
        "print('x_values : ',x_values.shape)\n",
        "print('x_values_masc : ', x_values_masc.shape) \n",
        "print('x_values_fem : ', x_values_fem.shape)  "
      ],
      "execution_count": 97,
      "outputs": [
        {
          "output_type": "stream",
          "text": [
            "x_values :  (4288, 16)\n",
            "x_values_masc :  (1814, 16)\n",
            "x_values_fem :  (2474, 16)\n"
          ],
          "name": "stdout"
        }
      ]
    },
    {
      "cell_type": "markdown",
      "metadata": {
        "id": "cDo3vWQntTuM",
        "colab_type": "text"
      },
      "source": [
        "## 3.Dividir el dataset en el conjunto de entrenamiento y conjunto de test"
      ]
    },
    {
      "cell_type": "code",
      "metadata": {
        "id": "kk3PXtgAv4Lo",
        "colab_type": "code",
        "colab": {
          "base_uri": "https://localhost:8080/",
          "height": 66
        },
        "outputId": "a6911635-17ad-40e6-8c25-9628a5cd17cc"
      },
      "source": [
        "X, y = x_values, ob_true\n",
        "X_fem, y_fem = x_values_fem, ob_fem_true\n",
        "X_masc, y_masc = x_values_masc, ob_masc_true\n",
        "\n",
        "\n",
        "X_train, X_test, y_train, y_test = train_test_split(X, y, train_size=0.6, random_state=42)\n",
        "X_fem_train, X_fem_test, y_fem_train, y_fem_test = train_test_split(X_fem, y_fem, train_size=0.6, random_state=42)\n",
        "X_masc_train, X_masc_test, y_masc_train, y_masc_test = train_test_split(X_masc, y_masc, train_size=0.6, random_state=42)\n",
        "\n",
        "\n",
        "\n",
        "#split del 60% para train\n",
        "#Verificamos los tamaños de las matrices\n",
        "print('X_Train : ',X_train.shape,'  X_test, ', X_test.shape)\n",
        "print('X_fem_train : ', X_fem_train.shape,'  X_fem_test, ',X_fem_test.shape) \n",
        "print('X_masc_train : ', X_masc_train.shape,'  X_masc_test, ',X_masc_test.shape)\n"
      ],
      "execution_count": 98,
      "outputs": [
        {
          "output_type": "stream",
          "text": [
            "X_Train :  (2572, 16)   X_test,  (1716, 16)\n",
            "X_fem_train :  (1484, 16)   X_fem_test,  (990, 16)\n",
            "X_masc_train :  (1088, 16)   X_masc_test,  (726, 16)\n"
          ],
          "name": "stdout"
        }
      ]
    },
    {
      "cell_type": "markdown",
      "metadata": {
        "id": "8kNEf8m9xQAO",
        "colab_type": "text"
      },
      "source": [
        "## 4.Analizar y justificar que features se utilizarán para lograr la mejor predicción.\n",
        "\n"
      ]
    },
    {
      "cell_type": "markdown",
      "metadata": {
        "id": "22Zmfh7Wyz9e",
        "colab_type": "text"
      },
      "source": [
        "Tenemos 239 features disponibles para hacer la predicción. Sin embargo, los features que ayudarán significativamente a la predicción son:\n",
        "1. dlp: Presencia de dislipemia. *Es caracteristico de la obesidad*\n",
        "2. dbt_tipo2:Presencia de diabetes tipo 2: *los diabeticos T2 tienen mayor probabilidad de ser obesos\".*\n",
        "3. cancer: *la obesidad se asocia con al menos 13 tipos distintos de cáncer.*\n",
        "4. actfis: *el sedentarismo esta relacionado a la obesidad*\n",
        "5. stress: *la ansiedad esta relacionada a la mala alimentacion*\n",
        "6. imagen: *imagen corporal evaluada por el entrevistador*\n",
        "7. nes: *el nivel socioeco influye en el tipo de alimentacion*\n",
        "8. peso: *es el numerador del calculo de IMC*\n",
        "9. cc: *circunferencia de cintura*\n",
        "10. fgl1. *ingesta de glucidos segun frecuencia*\n",
        "11. fgr1. *ingesta de grasas segun frecuencia*\n",
        "12. hta. *La obesidad contribuye a la hipertensión por varios mecanismos*\n",
        "13. eent. **el nivel educativo influye en el tipo de alimentacion*\n",
        "14. falco. *ingesta de alcohol segun frecuencia* \n",
        "15. fgas. *ingesta de gaseosas segun frecuencia*\n",
        "16. fcrap. *ingesta de comida chatarra segun frecuencia*\n"
      ]
    },
    {
      "cell_type": "markdown",
      "metadata": {
        "id": "9d0fkbab72Zz",
        "colab_type": "text"
      },
      "source": [
        "##5. Elegir dos modelos de clasificación (uno por cada requerimiento). Los que Uds. se sientan más cómodos, pero también justificando conceptualmente la elección de la función de regularización."
      ]
    },
    {
      "cell_type": "markdown",
      "metadata": {
        "id": "eVh9O_JoF4zu",
        "colab_type": "text"
      },
      "source": [
        "De acuerdo a la bibliografia Random Forest es el algoritmo de clasificacion y regresion mas popular utilizado ampliamente en clasificacion de enfermedades. Utilizaremos un clasificador sencillo como Naives Bayes (Gausiano) y Random Forest por lo anteriormente señalado.\n"
      ]
    },
    {
      "cell_type": "code",
      "metadata": {
        "id": "aT-xFv2BJ0JV",
        "colab_type": "code",
        "colab": {}
      },
      "source": [
        "# Funcion Clasificar\n",
        "def classify(model, X_train, y_train, X_test, y_test):\n",
        "    #X_train, X_test, y_train, y_test = train_test_split(X, y, test_size=0.6, random_state=42)\n",
        "    model.fit(X_train, y_train)\n",
        "    y_pred = model.predict(X_test)\n",
        "    print(\"Accuracy is \", accuracy_score(y_test, y_pred))\n",
        "    print(\"Precision is \", precision_score(y_test, y_pred))\n",
        "    print(\"Recall is \", recall_score(y_test, y_pred))\n",
        "    print(\"F1 is \", f1_score(y_test, y_pred))\n",
        "    cm = confusion_matrix(y_test, y_pred)\n",
        "    print(cm)\n",
        "    #sns.heatmap(cm, annot = True)"
      ],
      "execution_count": 99,
      "outputs": []
    },
    {
      "cell_type": "markdown",
      "metadata": {
        "id": "Lpg9Jy2yNovC",
        "colab_type": "text"
      },
      "source": [
        "##Escalamos los Datos"
      ]
    },
    {
      "cell_type": "code",
      "metadata": {
        "id": "PEkDXbDMrZOV",
        "colab_type": "code",
        "colab": {}
      },
      "source": [
        "#Escalamos los DATOS\n",
        "\n",
        "feature_scaler = StandardScaler()\n",
        "X_train = feature_scaler.fit_transform(X_train)\n",
        "X_test = feature_scaler.transform(X_test)\n",
        "\n",
        "X_fem_train = feature_scaler.fit_transform(X_fem_train)\n",
        "X_fem_test = feature_scaler.transform(X_fem_test)\n",
        "\n",
        "X_masc_train = feature_scaler.fit_transform(X_masc_train)\n",
        "X_masc_test = feature_scaler.transform(X_masc_test)\n",
        "\n"
      ],
      "execution_count": 100,
      "outputs": []
    },
    {
      "cell_type": "markdown",
      "metadata": {
        "id": "swSd0-q0N2TZ",
        "colab_type": "text"
      },
      "source": [
        "##Clasificador Naive Bayes Gausiano"
      ]
    },
    {
      "cell_type": "code",
      "metadata": {
        "id": "dKZGkqCvpvPF",
        "colab_type": "code",
        "colab": {
          "base_uri": "https://localhost:8080/",
          "height": 82
        },
        "outputId": "0dc0cd72-0ab5-495c-c712-1786109c8c6c"
      },
      "source": [
        "gnb = GaussianNB()\n",
        "print(\"Resultados Clasificador NB Gausiano\")\n",
        "\n",
        "# PARA TODA LA POBLACION\n",
        "gnb.fit(X_train, y_train)\n",
        "y_pred = gnb.predict(X_test)\n",
        "print(\"Para TODA la Poblacion Accuracy es \", accuracy_score(y_test, y_pred))\n",
        "\n",
        "# PARA TODA LA POBLACION FEMENINA\n",
        "gnb.fit(X_fem_train, y_fem_train)\n",
        "y_fem_pred = gnb.predict(X_fem_test)\n",
        "print(\"Para TODA la Poblacion FEMENINA Accuracy es \", accuracy_score(y_fem_test, y_fem_pred))\n",
        "\n",
        "# PARA TODA LA POBLACION MASCULINA\n",
        "gnb.fit(X_masc_train, y_masc_train)\n",
        "y_masc_pred = gnb.predict(X_masc_test)\n",
        "print(\"Para TODA la Poblacion MASCULINA Accuracy es \", accuracy_score(y_masc_test, y_masc_pred))\n"
      ],
      "execution_count": 101,
      "outputs": [
        {
          "output_type": "stream",
          "text": [
            "Resultados Clasificador NB Gausiano\n",
            "Para TODA la Poblacion Accuracy es  0.8758741258741258\n",
            "Para TODA la Poblacion FEMENINA Accuracy es  0.901010101010101\n",
            "Para TODA la Poblacion MASCULINA Accuracy es  0.9008264462809917\n"
          ],
          "name": "stdout"
        }
      ]
    },
    {
      "cell_type": "markdown",
      "metadata": {
        "id": "sutxTh3hNtoZ",
        "colab_type": "text"
      },
      "source": [
        "## Clasificador Arbol de Decision"
      ]
    },
    {
      "cell_type": "code",
      "metadata": {
        "id": "LB9pM9ydKowt",
        "colab_type": "code",
        "colab": {
          "base_uri": "https://localhost:8080/",
          "height": 50
        },
        "outputId": "1aca093c-f697-4ca5-a3bc-89566cb3aed7"
      },
      "source": [
        "clf = DecisionTreeClassifier(random_state=42)  #max_depth=None, criterion='entropy',\n",
        "print(\"Resultados Clasificador Arbol de decision\")\n",
        "# PARA TODA LA POBLACION\n",
        "clf.fit(X_train, y_train)\n",
        "y_pred = clf.predict(X_test)\n",
        "print(\"Para Toda la Poblacion Accuracy es \", accuracy_score(y_test, y_pred))\n",
        "\n"
      ],
      "execution_count": 102,
      "outputs": [
        {
          "output_type": "stream",
          "text": [
            "Resultados Clasificador Arbol de decision\n",
            "Para Toda la Poblacion Accuracy es  0.8881118881118881\n"
          ],
          "name": "stdout"
        }
      ]
    },
    {
      "cell_type": "code",
      "metadata": {
        "id": "HmdKJ7uyR4zD",
        "colab_type": "code",
        "colab": {
          "base_uri": "https://localhost:8080/",
          "height": 187
        },
        "outputId": "b10bbea0-b47d-4138-8179-9a91d74b6881"
      },
      "source": [
        "import matplotlib.pyplot as plt\n",
        "from sklearn.tree import plot_tree\n",
        "\n",
        "fig = plt.figure(figsize=(50,5))\n",
        "ax = plt.subplot('110')\n",
        "plot_tree(clf, ax=ax);\n",
        "plt.title('DecisionTreeClassifier')\n",
        "plt.show()"
      ],
      "execution_count": 103,
      "outputs": [
        {
          "output_type": "display_data",
          "data": {
            "image/png": "[encoded data removed]",
            "text/plain": [
              "<Figure size 3600x360 with 1 Axes>"
            ]
          },
          "metadata": {
            "tags": [],
            "needs_background": "light"
          }
        }
      ]
    },
    {
      "cell_type": "code",
      "metadata": {
        "id": "sPPa_eeJS6ml",
        "colab_type": "code",
        "colab": {
          "base_uri": "https://localhost:8080/",
          "height": 33
        },
        "outputId": "13904b82-330c-4cf3-b7d9-8bc6c26b5fb2"
      },
      "source": [
        "\n",
        "# PARA LA POBLACION FEMENINA\n",
        "clf.fit(X_fem_train, y_fem_train)\n",
        "y_fem_pred = clf.predict(X_fem_test)\n",
        "print(\"Para Toda la Poblacion FEMENINA Accuracy es \", accuracy_score(y_fem_test, y_fem_pred))\n",
        "\n"
      ],
      "execution_count": 104,
      "outputs": [
        {
          "output_type": "stream",
          "text": [
            "Para Toda la Poblacion FEMENINA Accuracy es  0.9090909090909091\n"
          ],
          "name": "stdout"
        }
      ]
    },
    {
      "cell_type": "code",
      "metadata": {
        "id": "DwZ0mEz_Uc9r",
        "colab_type": "code",
        "colab": {
          "base_uri": "https://localhost:8080/",
          "height": 33
        },
        "outputId": "e09225ef-eb45-4143-de37-7adb5923d725"
      },
      "source": [
        "# PARA LA POBLACION MASCULINA\n",
        "clf.fit(X_masc_train, y_masc_train)\n",
        "y_masc_pred = clf.predict(X_masc_test)\n",
        "print(\"Para Toda la Poblacion MASCULINA Accuracy es \", accuracy_score(y_masc_test, y_masc_pred))"
      ],
      "execution_count": 105,
      "outputs": [
        {
          "output_type": "stream",
          "text": [
            "Para Toda la Poblacion MASCULINA Accuracy es  0.8898071625344353\n"
          ],
          "name": "stdout"
        }
      ]
    },
    {
      "cell_type": "markdown",
      "metadata": {
        "id": "DJxqtN0vUKLn",
        "colab_type": "text"
      },
      "source": [
        "##Validacion Cruzada"
      ]
    },
    {
      "cell_type": "code",
      "metadata": {
        "id": "XNE0wzY7DNdR",
        "colab_type": "code",
        "colab": {
          "base_uri": "https://localhost:8080/",
          "height": 553
        },
        "outputId": "133c9c6c-79c0-46fd-963d-f368db5204a2"
      },
      "source": [
        "print('Validacion Cruzada GNB')\n",
        "print()\n",
        "# PARA TODA LA POBLACION\n",
        "print('Validacion Cruzada para TODA LA POBLACION')\n",
        "all_accuracies = cross_val_score(estimator=gnb, X=X_train, y=y_train, cv=5)\n",
        "print('Todas las ACCU:',  all_accuracies)\n",
        "print('ACCU media: ', all_accuracies.mean())\n",
        "print('Desv Std ACCU: ', all_accuracies.std())\n",
        "\n",
        "# PARA TODA LA POBLACION FEMENINA\n",
        "print()\n",
        "print('Validacion Cruzada para TODA LA POBLACION FEMENINA')\n",
        "all_accuracies = cross_val_score(estimator=gnb, X=X_fem_train, y=y_fem_train, cv=5)\n",
        "print('Todas las ACCU:',  all_accuracies)\n",
        "print('ACCU media: ', all_accuracies.mean())\n",
        "print('Desv Std ACCU: ', all_accuracies.std())\n",
        "\n",
        "# PARA TODA LA POBLACION MASCULINA\n",
        "print()\n",
        "print('Validacion Cruzada para TODA LA POBLACION MASCULINA')\n",
        "all_accuracies = cross_val_score(estimator=gnb, X=X_masc_train, y=y_masc_train, cv=5)\n",
        "print('Todas las ACCU:',  all_accuracies)\n",
        "print('ACCU media: ', all_accuracies.mean())\n",
        "print('Desv Std ACCU: ', all_accuracies.std())\n",
        "\n",
        "print()\n",
        "print('Validacion Cruzada ARBOL DE DECISION')\n",
        "print()\n",
        "# PARA TODA LA POBLACION\n",
        "print('Validacion Cruzada para TODA LA POBLACION')\n",
        "all_accuracies = cross_val_score(estimator=clf, X=X_train, y=y_train, cv=5)\n",
        "print('Todas las ACCU:',  all_accuracies)\n",
        "print('ACCU media: ', all_accuracies.mean())\n",
        "print('Desv Std ACCU: ', all_accuracies.std())\n",
        "\n",
        "# PARA TODA LA POBLACION FEMENINA\n",
        "print()\n",
        "print('Validacion Cruzada para TODA LA POBLACION FEMENINA')\n",
        "all_accuracies = cross_val_score(estimator=clf, X=X_fem_train, y=y_fem_train, cv=5)\n",
        "print('Todas las ACCU:',  all_accuracies)\n",
        "print('ACCU media: ', all_accuracies.mean())\n",
        "print('Desv Std ACCU: ', all_accuracies.std())\n",
        "\n",
        "# PARA TODA LA POBLACION MASCULINA\n",
        "print()\n",
        "print('Validacion Cruzada para TODA LA POBLACION MASCULINA')\n",
        "all_accuracies = cross_val_score(estimator=clf, X=X_masc_train, y=y_masc_train, cv=5)\n",
        "print('Todas las ACCU:',  all_accuracies)\n",
        "print('ACCU media: ', all_accuracies.mean())\n",
        "print('Desv Std ACCU: ', all_accuracies.std())\n"
      ],
      "execution_count": 106,
      "outputs": [
        {
          "output_type": "stream",
          "text": [
            "Validacion Cruzada GNB\n",
            "\n",
            "Validacion Cruzada para TODA LA POBLACION\n",
            "Todas las ACCU: [0.87961165 0.86019417 0.89299611 0.89299611 0.90077821]\n",
            "ACCU media:  0.8853152506516565\n",
            "Desv Std ACCU:  0.014287713552182757\n",
            "\n",
            "Validacion Cruzada para TODA LA POBLACION FEMENINA\n",
            "Todas las ACCU: [0.91245791 0.8989899  0.92592593 0.85858586 0.89527027]\n",
            "ACCU media:  0.8982459732459732\n",
            "Desv Std ACCU:  0.02258535775715674\n",
            "\n",
            "Validacion Cruzada para TODA LA POBLACION MASCULINA\n",
            "Todas las ACCU: [0.89908257 0.91284404 0.87155963 0.87557604 0.89400922]\n",
            "ACCU media:  0.8906142983976663\n",
            "Desv Std ACCU:  0.015274998660445417\n",
            "\n",
            "Validacion Cruzada ARBOL DE DECISION\n",
            "\n",
            "Validacion Cruzada para TODA LA POBLACION\n",
            "Todas las ACCU: [0.90097087 0.8776699  0.87548638 0.88521401 0.88715953]\n",
            "ACCU media:  0.8853001397756035\n",
            "Desv Std ACCU:  0.008984064070871715\n",
            "\n",
            "Validacion Cruzada para TODA LA POBLACION FEMENINA\n",
            "Todas las ACCU: [0.90572391 0.8956229  0.91582492 0.88552189 0.91891892]\n",
            "ACCU media:  0.9043225043225043\n",
            "Desv Std ACCU:  0.012461710750467411\n",
            "\n",
            "Validacion Cruzada para TODA LA POBLACION MASCULINA\n",
            "Todas las ACCU: [0.94495413 0.92201835 0.87155963 0.93548387 0.90322581]\n",
            "ACCU media:  0.9154483575022196\n",
            "Desv Std ACCU:  0.026041459221865498\n"
          ],
          "name": "stdout"
        }
      ]
    },
    {
      "cell_type": "markdown",
      "metadata": {
        "id": "_81y8fKCaM02",
        "colab_type": "text"
      },
      "source": [
        "## Grid Search"
      ]
    },
    {
      "cell_type": "code",
      "metadata": {
        "id": "KZ9ia3RHVJ1w",
        "colab_type": "code",
        "colab": {}
      },
      "source": [
        "grid_param = {\n",
        "    'max_depth': [3, 5, 10],\n",
        "    'criterion': ['gini', 'entropy'],\n",
        "    'max_features': ['auto', 'sqrt'],\n",
        "    'ccp_alpha': [0, 1, 3, 5]\n",
        "}"
      ],
      "execution_count": 107,
      "outputs": []
    },
    {
      "cell_type": "code",
      "metadata": {
        "id": "vGzLsYmgfF1r",
        "colab_type": "code",
        "colab": {}
      },
      "source": [
        "from sklearn.model_selection import GridSearchCV\n",
        "\n",
        "gd_sr = GridSearchCV(clf,\n",
        "                     param_grid=grid_param,\n",
        "                     scoring='accuracy',\n",
        "                     cv=5,\n",
        "                     n_jobs=-1)\n",
        "# PARA TODA LA POBLACION\n",
        "\n",
        "gd_sr.fit(X_train, y_train)"
      ],
      "execution_count": null,
      "outputs": []
    },
    {
      "cell_type": "code",
      "metadata": {
        "id": "ftITiShObeY2",
        "colab_type": "code",
        "colab": {
          "base_uri": "https://localhost:8080/",
          "height": 133
        },
        "outputId": "876c399f-50b5-44a8-974c-05365377a689"
      },
      "source": [
        "res_tree = pd.DataFrame(gd_sr.cv_results_)\n",
        "\n",
        "cols = ['rank_test_score', 'mean_test_score', 'std_test_score', 'params']\n",
        "results = res_tree[cols].sort_values(by=['rank_test_score']).head(3)\n",
        "results"
      ],
      "execution_count": 128,
      "outputs": [
        {
          "output_type": "execute_result",
          "data": {
            "text/html": [
              "<div>\n",
              "<style scoped>\n",
              "    .dataframe tbody tr th:only-of-type {\n",
              "        vertical-align: middle;\n",
              "    }\n",
              "\n",
              "    .dataframe tbody tr th {\n",
              "        vertical-align: top;\n",
              "    }\n",
              "\n",
              "    .dataframe thead th {\n",
              "        text-align: right;\n",
              "    }\n",
              "</style>\n",
              "<table border=\"1\" class=\"dataframe\">\n",
              "  <thead>\n",
              "    <tr style=\"text-align: right;\">\n",
              "      <th></th>\n",
              "      <th>rank_test_score</th>\n",
              "      <th>mean_test_score</th>\n",
              "      <th>std_test_score</th>\n",
              "      <th>params</th>\n",
              "    </tr>\n",
              "  </thead>\n",
              "  <tbody>\n",
              "    <tr>\n",
              "      <th>5</th>\n",
              "      <td>1</td>\n",
              "      <td>0.90</td>\n",
              "      <td>0.02</td>\n",
              "      <td>{'ccp_alpha': 0, 'criterion': 'gini', 'max_dep...</td>\n",
              "    </tr>\n",
              "    <tr>\n",
              "      <th>4</th>\n",
              "      <td>1</td>\n",
              "      <td>0.90</td>\n",
              "      <td>0.02</td>\n",
              "      <td>{'ccp_alpha': 0, 'criterion': 'gini', 'max_dep...</td>\n",
              "    </tr>\n",
              "    <tr>\n",
              "      <th>0</th>\n",
              "      <td>3</td>\n",
              "      <td>0.90</td>\n",
              "      <td>0.01</td>\n",
              "      <td>{'ccp_alpha': 0, 'criterion': 'gini', 'max_dep...</td>\n",
              "    </tr>\n",
              "  </tbody>\n",
              "</table>\n",
              "</div>"
            ],
            "text/plain": [
              "   rank_test_score  mean_test_score  std_test_score  \\\n",
              "5                1             0.90            0.02   \n",
              "4                1             0.90            0.02   \n",
              "0                3             0.90            0.01   \n",
              "\n",
              "                                              params  \n",
              "5  {'ccp_alpha': 0, 'criterion': 'gini', 'max_dep...  \n",
              "4  {'ccp_alpha': 0, 'criterion': 'gini', 'max_dep...  \n",
              "0  {'ccp_alpha': 0, 'criterion': 'gini', 'max_dep...  "
            ]
          },
          "metadata": {
            "tags": []
          },
          "execution_count": 128
        }
      ]
    },
    {
      "cell_type": "code",
      "metadata": {
        "id": "EAE6tAwRbslD",
        "colab_type": "code",
        "colab": {
          "base_uri": "https://localhost:8080/",
          "height": 115
        },
        "outputId": "29b92fd2-82e9-4a09-8930-263398a472c8"
      },
      "source": [
        "best_model = gd_sr.best_estimator_\n",
        "print(best_model)"
      ],
      "execution_count": 129,
      "outputs": [
        {
          "output_type": "stream",
          "text": [
            "DecisionTreeClassifier(ccp_alpha=0, class_weight=None, criterion='gini',\n",
            "                       max_depth=10, max_features='auto', max_leaf_nodes=None,\n",
            "                       min_impurity_decrease=0.0, min_impurity_split=None,\n",
            "                       min_samples_leaf=1, min_samples_split=2,\n",
            "                       min_weight_fraction_leaf=0.0, presort='deprecated',\n",
            "                       random_state=42, splitter='best')\n"
          ],
          "name": "stdout"
        }
      ]
    },
    {
      "cell_type": "code",
      "metadata": {
        "id": "Xy0g_yXjfXxB",
        "colab_type": "code",
        "colab": {
          "base_uri": "https://localhost:8080/",
          "height": 147
        },
        "outputId": "b29d4490-61c8-4014-820f-d816f70fd139"
      },
      "source": [
        "print('Grid Search Arbol de decision')\n",
        "print()\n",
        "\n",
        "# PARA TODA LA POBLACION\n",
        "gd_sr.fit(X_train, y_train)\n",
        "best_parameters = gd_sr.best_params_\n",
        "print('La mejor combinacion de Parametros para TODA LA POBLACION es: ', best_parameters)\n",
        "print()\n",
        "\n",
        "# PARA TODA LA POBLACION FEMENINA\n",
        "gd_sr.fit(X_fem_train, y_fem_train)\n",
        "best_parameters = gd_sr.best_params_\n",
        "print('La mejor combinacion de Parametros para LA POBLACION FEMENINA es: ', best_parameters)\n",
        "print()\n",
        "\n",
        "# PARA TODA LA POBLACION MASCULINA\n",
        "gd_sr.fit(X_masc_train, y_masc_train)\n",
        "best_parameters = gd_sr.best_params_\n",
        "print('La mejor combinacion de Parametros para TODA LA POBLACION MASCULINA es: ', best_parameters)\n",
        "print()"
      ],
      "execution_count": 137,
      "outputs": [
        {
          "output_type": "stream",
          "text": [
            "Grid Search Arbol de decision\n",
            "\n",
            "La mejor combinacion de Parametros para TODA LA POBLACION es:  {'ccp_alpha': 0, 'criterion': 'gini', 'max_depth': 10, 'max_features': 'auto'}\n",
            "\n",
            "La mejor combinacion de Parametros para LA POBLACION FEMENINA es:  {'ccp_alpha': 0, 'criterion': 'entropy', 'max_depth': 10, 'max_features': 'auto'}\n",
            "\n",
            "La mejor combinacion de Parametros para TODA LA POBLACION MASCULINA es:  {'ccp_alpha': 0, 'criterion': 'gini', 'max_depth': 5, 'max_features': 'auto'}\n",
            "\n"
          ],
          "name": "stdout"
        }
      ]
    },
    {
      "cell_type": "code",
      "metadata": {
        "id": "Mf9DsDKahaFy",
        "colab_type": "code",
        "colab": {
          "base_uri": "https://localhost:8080/",
          "height": 293
        },
        "outputId": "9e64f263-7920-4fb9-aba0-65418aa23f46"
      },
      "source": [
        "DecisionTreeClassifier(random_state=42, max_depth= 5)\n",
        "\n",
        "print()\n",
        "print('Validacion Cruzada ARBOL DE DECISION CON PARAMETROS OPTIMIZADOS')\n",
        "print()\n",
        "# PARA TODA LA POBLACION\n",
        "print('Validacion Cruzada para TODA LA POBLACION')\n",
        "dt_all = DecisionTreeClassifier(random_state=42, ccp_alpha= 0, criterion= 'gini', max_depth= 10, max_features= 'auto')\n",
        "all_accuracies = cross_val_score(estimator=dt_all, X=X_train, y=y_train, cv=5)\n",
        "print('Todas las ACCU:',  all_accuracies)\n",
        "print('ACCU media: ', all_accuracies.mean())\n",
        "print('Desv Std ACCU: ', all_accuracies.std())\n",
        "\n",
        "# PARA TODA LA POBLACION FEMENINA\n",
        "print()\n",
        "print('Validacion Cruzada para TODA LA POBLACION FEMENINA')\n",
        "dt_fem = DecisionTreeClassifier(random_state=42, ccp_alpha= 0, criterion= 'entropy', max_depth= 10, max_features= 'auto')\n",
        "all_accuracies = cross_val_score(estimator=dt_fem, X=X_fem_train, y=y_fem_train, cv=5)\n",
        "print('Todas las ACCU:',  all_accuracies)\n",
        "print('ACCU media: ', all_accuracies.mean())\n",
        "print('Desv Std ACCU: ', all_accuracies.std())\n",
        "\n",
        "# PARA TODA LA POBLACION MASCULINA\n",
        "print()\n",
        "print('Validacion Cruzada para TODA LA POBLACION MASCULINA')\n",
        "dt_masc = DecisionTreeClassifier(random_state=42, ccp_alpha= 0, criterion= 'gini', max_depth= 5, max_features= 'auto')\n",
        "all_accuracies = cross_val_score(estimator=dt_masc, X=X_masc_train, y=y_masc_train, cv=5)\n",
        "print('Todas las ACCU:',  all_accuracies)\n",
        "print('ACCU media: ', all_accuracies.mean())\n",
        "print('Desv Std ACCU: ', all_accuracies.std())"
      ],
      "execution_count": 135,
      "outputs": [
        {
          "output_type": "stream",
          "text": [
            "\n",
            "Validacion Cruzada ARBOL DE DECISION CON PARAMETROS OPTIMIZADOS\n",
            "\n",
            "Validacion Cruzada para TODA LA POBLACION\n",
            "Todas las ACCU: [0.87378641 0.88349515 0.91245136 0.91050584 0.91245136]\n",
            "ACCU media:  0.8985380227418684\n",
            "Desv Std ACCU:  0.016548843916489975\n",
            "\n",
            "Validacion Cruzada para TODA LA POBLACION FEMENINA\n",
            "Todas las ACCU: [0.90909091 0.90909091 0.91582492 0.91582492 0.9222973 ]\n",
            "ACCU media:  0.9144257894257894\n",
            "Desv Std ACCU:  0.004955757094686165\n",
            "\n",
            "Validacion Cruzada para TODA LA POBLACION MASCULINA\n",
            "Todas las ACCU: [0.94495413 0.93577982 0.89449541 0.89861751 0.90322581]\n",
            "ACCU media:  0.9154145351541031\n",
            "Desv Std ACCU:  0.020763655963833602\n"
          ],
          "name": "stdout"
        }
      ]
    },
    {
      "cell_type": "code",
      "metadata": {
        "id": "KIPawAv6iW9E",
        "colab_type": "code",
        "colab": {
          "base_uri": "https://localhost:8080/",
          "height": 1000
        },
        "outputId": "143d315f-18f0-486e-ff98-c73d67842ff6"
      },
      "source": [
        "print('Resultados Finales Poblacion Total Modelo DT estandar')\n",
        "classify(clf, X_train, y_train, X_test, y_test)\n",
        "print()\n",
        "\n",
        "print('Resultados Finales Poblacion Total Modelo DT OPTIMIZADO')\n",
        "classify(dt_all, X_train, y_train, X_test, y_test)\n",
        "print()\n",
        "\n",
        "print('Resultados Finales Poblacion Total Modelo GNB')\n",
        "classify(gnb, X_train, y_train, X_test, y_test)\n",
        "print()\n",
        "\n",
        "print('Resultados Finales Poblacion FEMENINA Modelo DT estandar')\n",
        "classify(clf, X_fem_train, y_fem_train, X_fem_test, y_fem_test)\n",
        "print()\n",
        "\n",
        "print('Resultados Finales Poblacion FEMENINA Modelo DT OPTIMIZADO')\n",
        "classify(dt_fem, X_fem_train, y_fem_train, X_fem_test, y_fem_test)\n",
        "print()\n",
        "\n",
        "print('Resultados Finales Poblacion FEMENINA Modelo GNB')\n",
        "classify(gnb, X_fem_train, y_fem_train, X_fem_test, y_fem_test)\n",
        "print()\n",
        "\n",
        "print('Resultados Finales Poblacion MASCULINA Modelo DT estandar')\n",
        "classify(clf, X_masc_train, y_masc_train, X_masc_test, y_masc_test)\n",
        "print()\n",
        "\n",
        "print('Resultados Finales Poblacion MASCULINA Modelo DT OPTIMIZADO')\n",
        "classify(dt_masc, X_masc_train, y_masc_train, X_masc_test, y_masc_test)\n",
        "\n",
        "print()\n",
        "print('Resultados Finales Poblacion MASCULINA Modelo GNB')\n",
        "classify(gnb, X_masc_train, y_masc_train, X_masc_test, y_masc_test)"
      ],
      "execution_count": 136,
      "outputs": [
        {
          "output_type": "stream",
          "text": [
            "Resultados Finales Poblacion Total Modelo DT estandar\n",
            "Accuracy is  0.8881118881118881\n",
            "Precision is  0.6891025641025641\n",
            "Recall is  0.6935483870967742\n",
            "F1 is  0.6913183279742765\n",
            "[[1309   97]\n",
            " [  95  215]]\n",
            "\n",
            "Resultados Finales Poblacion Total Modelo DT OPTIMIZADO\n",
            "Accuracy is  0.8846153846153846\n",
            "Precision is  0.6958041958041958\n",
            "Recall is  0.6419354838709678\n",
            "F1 is  0.6677852348993288\n",
            "[[1319   87]\n",
            " [ 111  199]]\n",
            "\n",
            "Resultados Finales Poblacion Total Modelo GNB\n",
            "Accuracy is  0.8758741258741258\n",
            "Precision is  0.6328767123287671\n",
            "Recall is  0.7451612903225806\n",
            "F1 is  0.6844444444444444\n",
            "[[1272  134]\n",
            " [  79  231]]\n",
            "\n",
            "Resultados Finales Poblacion FEMENINA Modelo DT estandar\n",
            "Accuracy is  0.9090909090909091\n",
            "Precision is  0.7225433526011561\n",
            "Recall is  0.7485029940119761\n",
            "F1 is  0.7352941176470588\n",
            "[[775  48]\n",
            " [ 42 125]]\n",
            "\n",
            "Resultados Finales Poblacion FEMENINA Modelo DT OPTIMIZADO\n",
            "Accuracy is  0.9161616161616162\n",
            "Precision is  0.7530120481927711\n",
            "Recall is  0.7485029940119761\n",
            "F1 is  0.7507507507507507\n",
            "[[782  41]\n",
            " [ 42 125]]\n",
            "\n",
            "Resultados Finales Poblacion FEMENINA Modelo GNB\n",
            "Accuracy is  0.901010101010101\n",
            "Precision is  0.6733668341708543\n",
            "Recall is  0.8023952095808383\n",
            "F1 is  0.7322404371584701\n",
            "[[758  65]\n",
            " [ 33 134]]\n",
            "\n",
            "Resultados Finales Poblacion MASCULINA Modelo DT estandar\n",
            "Accuracy is  0.8898071625344353\n",
            "Precision is  0.6666666666666666\n",
            "Recall is  0.72\n",
            "F1 is  0.6923076923076923\n",
            "[[556  45]\n",
            " [ 35  90]]\n",
            "\n",
            "Resultados Finales Poblacion MASCULINA Modelo DT OPTIMIZADO\n",
            "Accuracy is  0.8994490358126722\n",
            "Precision is  0.7166666666666667\n",
            "Recall is  0.688\n",
            "F1 is  0.7020408163265307\n",
            "[[567  34]\n",
            " [ 39  86]]\n",
            "\n",
            "Resultados Finales Poblacion MASCULINA Modelo GNB\n",
            "Accuracy is  0.9008264462809917\n",
            "Precision is  0.6802721088435374\n",
            "Recall is  0.8\n",
            "F1 is  0.7352941176470589\n",
            "[[554  47]\n",
            " [ 25 100]]\n"
          ],
          "name": "stdout"
        }
      ]
    },
    {
      "cell_type": "code",
      "metadata": {
        "id": "hmHrrZqti2g3",
        "colab_type": "code",
        "colab": {
          "base_uri": "https://localhost:8080/",
          "height": 358
        },
        "outputId": "1787f64a-e3e2-44a7-ef6b-c3d85c99a28c"
      },
      "source": [
        "#Con el objetivo de averiguar que es lo que sucedio con la optimizacion, realizamos una cuadro comparativo mas detallado.\n",
        "\n",
        "from sklearn.metrics import classification_report\n",
        "y_train_pred_t = best_model.predict(X_train)\n",
        "y_test_pred_t = best_model.predict(X_test)\n",
        "\n",
        "print('default model PARA TODOS ')\n",
        "print(classification_report(y_test, y_pred))\n",
        "print('---------------------------------------------')\n",
        "print('Modelo Optimizado PARA TODOS')\n",
        "print(classification_report(y_test, y_test_pred_t))"
      ],
      "execution_count": null,
      "outputs": [
        {
          "output_type": "stream",
          "text": [
            "default model PARA TODOS \n",
            "              precision    recall  f1-score   support\n",
            "\n",
            "           0       0.93      0.93      0.93      1406\n",
            "           1       0.69      0.69      0.69       310\n",
            "\n",
            "    accuracy                           0.89      1716\n",
            "   macro avg       0.81      0.81      0.81      1716\n",
            "weighted avg       0.89      0.89      0.89      1716\n",
            "\n",
            "---------------------------------------------\n",
            "Modelo Optimizado PARA TODOS\n",
            "              precision    recall  f1-score   support\n",
            "\n",
            "           0       0.92      0.94      0.93      1406\n",
            "           1       0.70      0.64      0.67       310\n",
            "\n",
            "    accuracy                           0.88      1716\n",
            "   macro avg       0.81      0.79      0.80      1716\n",
            "weighted avg       0.88      0.88      0.88      1716\n",
            "\n"
          ],
          "name": "stdout"
        }
      ]
    },
    {
      "cell_type": "code",
      "metadata": {
        "id": "R-FcgNfPYY2i",
        "colab_type": "code",
        "colab": {
          "base_uri": "https://localhost:8080/",
          "height": 512
        },
        "outputId": "a7267df5-1e13-4f54-a80f-e025d2dabae9"
      },
      "source": [
        "fig = plt.figure(figsize=(10,8))\n",
        "ax = plt.subplot('111')\n",
        "plot_confusion_matrix(\n",
        "    clf, X_fem_test, y_fem_test,\n",
        "    cmap=plt.cm.Blues,\n",
        "    normalize='true',\n",
        "    ax=ax\n",
        "  )\n",
        "plt.title('Confusion Matrix for DecisionTreeClassifier POBLACION FEMENINA- modelo default')\n",
        "plt.show()"
      ],
      "execution_count": 142,
      "outputs": [
        {
          "output_type": "display_data",
          "data": {
            "image/png": "[encoded data removed]",
            "text/plain": [
              "<Figure size 720x576 with 2 Axes>"
            ]
          },
          "metadata": {
            "tags": [],
            "needs_background": "light"
          }
        }
      ]
    },
    {
      "cell_type": "code",
      "metadata": {
        "id": "9ZZikqO7YDFl",
        "colab_type": "code",
        "colab": {
          "base_uri": "https://localhost:8080/",
          "height": 512
        },
        "outputId": "6e833479-758b-4827-82e5-07b2959ef914"
      },
      "source": [
        "\n",
        "fig = plt.figure(figsize=(10,8))\n",
        "ax = plt.subplot('111')\n",
        "plot_confusion_matrix(\n",
        "    dt_fem, X_fem_test, y_fem_test,\n",
        "    cmap=plt.cm.Blues,\n",
        "    normalize='true',\n",
        "    ax=ax\n",
        "  )\n",
        "plt.title('Confusion Matrix for DecisionTreeClassifier POBLACION FEMENINA - modelo optimizado')\n",
        "plt.show()"
      ],
      "execution_count": 143,
      "outputs": [
        {
          "output_type": "display_data",
          "data": {
            "image/png": "[encoded data removed]",
            "text/plain": [
              "<Figure size 720x576 with 2 Axes>"
            ]
          },
          "metadata": {
            "tags": [],
            "needs_background": "light"
          }
        }
      ]
    },
    {
      "cell_type": "code",
      "metadata": {
        "id": "_MvHHJCzYRER",
        "colab_type": "code",
        "colab": {
          "base_uri": "https://localhost:8080/",
          "height": 230
        },
        "outputId": "b18a27b0-107d-4e01-948d-d6dc749e143e"
      },
      "source": [
        "import matplotlib.pyplot as plt\n",
        "from sklearn.tree import plot_tree\n",
        "\n",
        "fig = plt.figure(figsize=(40,5))\n",
        "ax = plt.subplot('110')\n",
        "plot_tree(dt_fem, ax=ax);\n",
        "plt.title('DecisionTreeClassifier optimizado POBLACION FEMENINA')\n",
        "plt.show()"
      ],
      "execution_count": 144,
      "outputs": [
        {
          "output_type": "display_data",
          "data": {
            "image/png": "[encoded data removed]",
            "text/plain": [
              "<Figure size 2880x360 with 1 Axes>"
            ]
          },
          "metadata": {
            "tags": [],
            "needs_background": "light"
          }
        }
      ]
    },
    {
      "cell_type": "code",
      "metadata": {
        "id": "kJZyZ7IpZvi0",
        "colab_type": "code",
        "colab": {}
      },
      "source": [
        ""
      ],
      "execution_count": 134,
      "outputs": []
    }
  ]
}