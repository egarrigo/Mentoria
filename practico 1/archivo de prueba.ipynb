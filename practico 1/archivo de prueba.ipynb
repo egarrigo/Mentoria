#archivo de prueba subiendo archivo git hub
#no hacerle caso
print("Mentoria")
x=2+2
print(x)
